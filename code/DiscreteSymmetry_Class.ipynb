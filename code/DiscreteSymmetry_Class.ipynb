{
 "cells": [
  {
   "cell_type": "code",
   "execution_count": 1,
   "id": "1a37a2a9",
   "metadata": {},
   "outputs": [],
   "source": [
    "import torch\n",
    "from torch.utils.data import Dataset, DataLoader\n",
    "import numpy as np\n",
    "import pandas as pd\n",
    "import matplotlib.pyplot as plt\n",
    "from collections import OrderedDict\n",
    "import torch.nn as nn\n",
    "import torch.nn.functional as F"
   ]
  },
  {
   "cell_type": "code",
   "execution_count": 49,
   "id": "4607b7c7",
   "metadata": {},
   "outputs": [],
   "source": [
    "class DiscreteSymmetry(Dataset):\n",
    "   \n",
    "    def __init__(self, n_samples):\n",
    "        \n",
    "        f_min_b, f_max_b = (-1.0 , 1.0)\n",
    "        (x_min_b, x_max_b) = (0.0, np.pi)\n",
    "        \n",
    "        n_samples\n",
    "    \n",
    "        f_x = self._custom_norm_t(torch.randn(n_samples, 64), f_min_b, f_max_b)\n",
    "        x = self._custom_norm_t(torch.randn(n_samples,64), x_min_b, x_max_b)\n",
    "       \n",
    "        labels = {'even' : torch.tensor([0 ,1 ]),\n",
    "                          'odd'  : torch.tensor([1, 0])                \n",
    "                         }\n",
    "        \n",
    "        even = torch.cat((x, f_x, -x, f_x,\n",
    "                          labels['even'].repeat(n_samples,1)),\n",
    "             dim=1)\n",
    "        odd = torch.cat((x, f_x, -x, -f_x,\n",
    "                           labels['odd'].repeat(n_samples,1)),\n",
    "             dim=1)\n",
    "        \n",
    "        \n",
    "        self.data = torch.cat((even, odd), dim=0) \n",
    "        \n",
    "    def __getitem__(self, index):\n",
    "        \n",
    "        return self.data[index, :-2], self.data[index, -2:]\n",
    "    \n",
    "    def __len__(self):\n",
    "        return self.data.shape[0]\n",
    "    \n",
    "    \n",
    "    def _custom_norm_t(self, t, min_b, max_b, dim=1):\n",
    "        \"\"\" maps tensor to user defined interval\"\"\"\n",
    "        t_min = t.min(dim = dim)[0].unsqueeze(1)\n",
    "        t_max = t.max(dim = dim)[0].unsqueeze(1)\n",
    "        t = (t - t_min)  /  (t_max - t_min) * (max_b - min_b) + min_b\n",
    "        return t\n",
    "        "
   ]
  },
  {
   "cell_type": "code",
   "execution_count": 50,
   "id": "ead9f9b6",
   "metadata": {},
   "outputs": [],
   "source": [
    "class Net(nn.Module):\n",
    "    def __init__(self):\n",
    "        super(Net, self).__init__()\n",
    "        self.block= nn.Sequential(\n",
    "            OrderedDict([\n",
    "            (\"relu1\" , nn.ReLU()),\n",
    "            (\"hidden_layer_1\" , nn.Linear(4*64, 1)),\n",
    "            (\"relu2\" , nn.ReLU()),    \n",
    "            (\"hidden_layer_2\" , nn.Linear(1, 2)),\n",
    "            (\"softmax\" , nn.Softmax(dim=1)), \n",
    "            ]))\n",
    "            \n",
    "        \n",
    "    def forward(self, x):\n",
    "        x = self.block(x)\n",
    "        return x"
   ]
  },
  {
   "cell_type": "code",
   "execution_count": 56,
   "id": "8974e85e",
   "metadata": {},
   "outputs": [],
   "source": [
    "learning_rate = 0.02\n"
   ]
  },
  {
   "cell_type": "code",
   "execution_count": 57,
   "id": "bededc67",
   "metadata": {},
   "outputs": [],
   "source": [
    "symm = DiscreteSymmetry(10000)"
   ]
  },
  {
   "cell_type": "code",
   "execution_count": 58,
   "id": "3c73661d",
   "metadata": {},
   "outputs": [],
   "source": [
    "dataloader = DataLoader(dataset=symm, \n",
    "                        shuffle=True\n",
    "                       )"
   ]
  },
  {
   "cell_type": "code",
   "execution_count": null,
   "id": "d6f7cd80",
   "metadata": {},
   "outputs": [
    {
     "name": "stdout",
     "output_type": "stream",
     "text": [
      "Epoch 0, Loss 0.6628568768501282\n",
      "Epoch 1, Loss 0.6435085535049438\n"
     ]
    }
   ],
   "source": [
    "n_epochs = 4\n",
    "loss_fn = nn.CrossEntropyLoss()\n",
    "model = Net()\n",
    "model.train()\n",
    "optimizer = torch.optim.Adam(model.parameters(), lr=learning_rate)\n",
    "\n",
    "for epoch in range(n_epochs):\n",
    "    for i, (x, label) in enumerate(dataloader):\n",
    "        out = model(x)\n",
    "        loss = loss_fn(out, label)\n",
    "        # forward path\n",
    "        optimizer.zero_grad()\n",
    "        loss.backward()\n",
    "        optimizer.step()\n",
    "    print(f\"Epoch {epoch}, Loss {loss}\")"
   ]
  },
  {
   "cell_type": "code",
   "execution_count": 55,
   "id": "2b9fefd4",
   "metadata": {},
   "outputs": [
    {
     "name": "stdout",
     "output_type": "stream",
     "text": [
      "block.hidden_layer_1.weight tensor([[-0.0967, -0.0169, -0.0528, -0.0783, -0.0470, -0.0539, -0.1173, -0.0541,\n",
      "         -0.0212, -0.0309, -0.0548, -0.0997, -0.0927, -0.0386, -0.0330, -0.0068,\n",
      "         -0.0386, -0.0364, -0.0426, -0.0608, -0.1029, -0.0667, -0.1131, -0.0156,\n",
      "         -0.1097, -0.0881, -0.0447, -0.0974, -0.0243, -0.1168, -0.0361, -0.0872,\n",
      "         -0.0743, -0.0501, -0.0685, -0.0093, -0.0346, -0.0409, -0.0082, -0.0169,\n",
      "         -0.0432, -0.0759, -0.0915, -0.0079, -0.0118, -0.0571, -0.1114, -0.0483,\n",
      "         -0.0833, -0.0602, -0.0493, -0.0416, -0.0558, -0.0073, -0.0494, -0.0098,\n",
      "         -0.0851, -0.0075, -0.0338, -0.0462, -0.0877, -0.0429, -0.0466, -0.0252,\n",
      "         -0.0343, -0.1169,  0.0500,  0.0086, -0.0193, -0.1121, -0.0599,  0.0315,\n",
      "         -0.0320, -0.0118, -0.0039, -0.0600, -0.0163, -0.0388, -0.0436,  0.0017,\n",
      "         -0.0376, -0.0605,  0.0162, -0.0024, -0.0477, -0.0315,  0.0151, -0.0694,\n",
      "         -0.1208, -0.0077, -0.0329,  0.0585, -0.0938, -0.0861, -0.1189, -0.1118,\n",
      "         -0.0481,  0.0436,  0.0348, -0.0873,  0.0622, -0.0571, -0.0467, -0.0356,\n",
      "         -0.0550, -0.0339,  0.0096, -0.1088, -0.0203,  0.0298, -0.0028, -0.0891,\n",
      "         -0.0697,  0.0059, -0.0291, -0.0428, -0.0652, -0.0515, -0.0170, -0.0631,\n",
      "         -0.0663, -0.0066, -0.1150, -0.0523,  0.0410, -0.0168, -0.0296, -0.0574,\n",
      "         -0.0009,  0.0502, -0.0600, -0.0516,  0.0345, -0.0477,  0.0038, -0.0518,\n",
      "         -0.0133,  0.0572,  0.0191, -0.0186, -0.0197, -0.0494,  0.0290,  0.0356,\n",
      "          0.0615, -0.0553, -0.0423, -0.0435, -0.0057, -0.0286,  0.0570, -0.0412,\n",
      "         -0.0184, -0.0598,  0.0606, -0.0477,  0.0029,  0.0186, -0.0491, -0.0153,\n",
      "          0.0523,  0.0086, -0.0369,  0.0273,  0.0414, -0.0155, -0.0459, -0.0335,\n",
      "         -0.0009, -0.0286,  0.0247, -0.0047,  0.0202,  0.0157,  0.0277, -0.0436,\n",
      "         -0.0153,  0.0154, -0.0330,  0.0002,  0.0061,  0.0569, -0.0441,  0.0492,\n",
      "         -0.0506,  0.0266,  0.0592, -0.0357, -0.0300,  0.0181, -0.0221,  0.0064,\n",
      "          0.0182, -0.1159, -0.0116,  0.0379, -0.0784, -0.0144, -0.0718,  0.0370,\n",
      "         -0.0315, -0.0822, -0.1112, -0.0574, -0.0382, -0.0106, -0.0154, -0.1161,\n",
      "         -0.0753, -0.0469,  0.0289, -0.0887, -0.0425, -0.1132,  0.0616, -0.0016,\n",
      "         -0.0806,  0.0516, -0.0012, -0.0199, -0.0501, -0.0491, -0.1020, -0.0005,\n",
      "         -0.0755, -0.0099, -0.0472, -0.1169, -0.0315,  0.0530, -0.0023, -0.0845,\n",
      "         -0.1220, -0.0154,  0.0398, -0.0326, -0.0187, -0.0624, -0.0325, -0.1032,\n",
      "         -0.0348, -0.0540, -0.0691, -0.0908, -0.0085, -0.0219, -0.0548, -0.1145,\n",
      "         -0.1023, -0.0633, -0.0320, -0.0025, -0.0233, -0.1059, -0.0302, -0.0316]])\n",
      "block.hidden_layer_1.bias tensor([-0.0211])\n",
      "block.hidden_layer_2.weight tensor([[-0.7890],\n",
      "        [-0.7529]])\n",
      "block.hidden_layer_2.bias tensor([0.1947, 0.1350])\n"
     ]
    }
   ],
   "source": [
    "for name, param in model.named_parameters():\n",
    "    if param.requires_grad:\n",
    "        print(name, param.data)"
   ]
  },
  {
   "cell_type": "code",
   "execution_count": 48,
   "id": "268dc9e7",
   "metadata": {},
   "outputs": [
    {
     "data": {
      "text/plain": [
       "[<matplotlib.lines.Line2D at 0x7faa6fb7cc70>]"
      ]
     },
     "execution_count": 48,
     "metadata": {},
     "output_type": "execute_result"
    },
    {
     "data": {
      "image/png": "[encoded data removed]",
      "text/plain": [
       "<Figure size 432x288 with 1 Axes>"
      ]
     },
     "metadata": {
      "needs_background": "light"
     },
     "output_type": "display_data"
    }
   ],
   "source": [
    "plt.plot(list(dataloader)[0][0].numpy().T)"
   ]
  },
  {
   "cell_type": "code",
   "execution_count": null,
   "id": "7755c1b4",
   "metadata": {},
   "outputs": [],
   "source": []
  }
 ],
 "metadata": {
  "kernelspec": {
   "display_name": "base",
   "language": "python",
   "name": "base"
  },
  "language_info": {
   "codemirror_mode": {
    "name": "ipython",
    "version": 3
   },
   "file_extension": ".py",
   "mimetype": "text/x-python",
   "name": "python",
   "nbconvert_exporter": "python",
   "pygments_lexer": "ipython3",
   "version": "3.9.5"
  }
 },
 "nbformat": 4,
 "nbformat_minor": 5
}
