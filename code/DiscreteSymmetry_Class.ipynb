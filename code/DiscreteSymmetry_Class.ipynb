{
 "cells": [
  {
   "cell_type": "code",
   "execution_count": 140,
   "id": "480329a2",
   "metadata": {},
   "outputs": [],
   "source": [
    "import torch\n",
    "from torch.utils.data import Dataset, DataLoader\n",
    "import numpy as np\n",
    "import pandas as pd\n",
    "import matplotlib.pyplot as plt\n",
    "from collections import OrderedDict\n",
    "import torch.nn as nn\n",
    "import torch.nn.functional as F"
   ]
  },
  {
   "cell_type": "code",
   "execution_count": 278,
   "id": "ec6dc151",
   "metadata": {},
   "outputs": [],
   "source": [
    "class DiscreteSymmetry(Dataset):\n",
    "   \n",
    "    def __init__(self, n_samples):\n",
    "        \n",
    "        f_min_b, f_max_b = (-1.0 , 1.0)\n",
    "        (x_min_b, x_max_b) = (0.0, np.pi)\n",
    "        \n",
    "        n_samples\n",
    "    \n",
    "        f_x = self._custom_norm_t(torch.randn(n_samples, 64), f_min_b, f_max_b)\n",
    "        x = self._custom_norm_t(torch.randn(n_samples,64), x_min_b, x_max_b)\n",
    "       \n",
    "        labels =labels = {'even' : torch.tensor([1,0]),\n",
    "                          'odd'  : torch.tensor([0,1])                \n",
    "                         }\n",
    "        \n",
    "        even = torch.cat((x, f_x, -x, f_x,\n",
    "                          labels['even'].repeat(n_samples,1)),\n",
    "             dim=1)\n",
    "        odd = torch.cat((x, f_x, -x, -f_x,\n",
    "                           labels['odd'].repeat(n_samples,1)),\n",
    "             dim=1)\n",
    "        \n",
    "        \n",
    "        self.data = torch.cat((even, odd), dim=0) \n",
    "        \n",
    "    def __getitem__(self, index):\n",
    "        \n",
    "        return self.data[index, :-2], self.data[index, -2:]\n",
    "    \n",
    "    def __len__(self):\n",
    "        return self.data.shape[0]\n",
    "    \n",
    "    \n",
    "    def _custom_norm_t(self, t, min_b, max_b, dim=1):\n",
    "        \"\"\" maps tensor to user defined interval\"\"\"\n",
    "        t_min = t.min(dim = dim)[0].unsqueeze(1)\n",
    "        t_max = t.max(dim = dim)[0].unsqueeze(1)\n",
    "        t = (t - t_min)  /  (t_max - t_min) * (max_b - min_b) + min_b\n",
    "        return t\n",
    "        "
   ]
  },
  {
   "cell_type": "code",
   "execution_count": 441,
   "id": "87d5f57d",
   "metadata": {},
   "outputs": [],
   "source": [
    "class Net(nn.Module):\n",
    "    def __init__(self):\n",
    "        super(Net, self).__init__()\n",
    "        self.block= nn.Sequential(\n",
    "            OrderedDict([\n",
    "            (\"relu1\" , nn.ReLU()),\n",
    "            (\"hidden_layer_1\" , nn.Linear(4*64, 1)),\n",
    "            (\"relu2\" , nn.ReLU()),    \n",
    "            (\"hidden_layer_2\" , nn.Linear(1, 2)),\n",
    "            (\"softmax\" , nn.Softmax(dim=1)), \n",
    "            ]))\n",
    "            \n",
    "        \n",
    "    def forward(self, x):\n",
    "        x = self.block(x)\n",
    "        return x"
   ]
  },
  {
   "cell_type": "code",
   "execution_count": 442,
   "id": "0e250d4d",
   "metadata": {},
   "outputs": [],
   "source": [
    "learning_rate = 0.01\n"
   ]
  },
  {
   "cell_type": "code",
   "execution_count": 443,
   "id": "98868676",
   "metadata": {},
   "outputs": [],
   "source": [
    "symm = DiscreteSymmetry(10000)"
   ]
  },
  {
   "cell_type": "code",
   "execution_count": 444,
   "id": "f042f081",
   "metadata": {},
   "outputs": [],
   "source": [
    "dataloader = DataLoader(dataset=symm, \n",
    "                        shuffle=True\n",
    "                       )"
   ]
  },
  {
   "cell_type": "code",
   "execution_count": 445,
   "id": "88e8e2da",
   "metadata": {},
   "outputs": [
    {
     "name": "stdout",
     "output_type": "stream",
     "text": [
      "Epoch 0, Loss 0.547305166721344\n",
      "Epoch 1, Loss 0.07045091688632965\n",
      "Epoch 2, Loss 0.06476829946041107\n",
      "Epoch 3, Loss 0.08623415231704712\n"
     ]
    }
   ],
   "source": [
    "n_epochs = 4\n",
    "loss_fn = nn.MSELoss()\n",
    "optimizer = torch.optim.SGD(model.parameters(), lr=learning_rate)\n",
    "model = Net()\n",
    "model.eval()\n",
    "for epoch in range(n_epochs):\n",
    "    for i, (x, label) in enumerate(dataloader):\n",
    "        out = model(x)\n",
    "        loss = loss_fn(out, label)\n",
    "        # forward path\n",
    "        optimizer.zero_grad()\n",
    "        loss.backward()\n",
    "        optimizer.step\n",
    "    print(f\"Epoch {epoch}, Loss {loss}\")"
   ]
  },
  {
   "cell_type": "code",
   "execution_count": 398,
   "id": "761425c1",
   "metadata": {},
   "outputs": [
    {
     "name": "stdout",
     "output_type": "stream",
     "text": [
      "block.hidden_layer_1.weight tensor([[-0.0266,  0.0163,  0.0190,  0.0612,  0.0139,  0.0233,  0.0077,  0.0256,\n",
      "          0.0396,  0.0213,  0.0434,  0.0490, -0.0364, -0.0326,  0.0340, -0.0621,\n",
      "         -0.0542, -0.0070,  0.0452, -0.0512,  0.0100, -0.0027,  0.0233,  0.0307,\n",
      "         -0.0173, -0.0217, -0.0188, -0.0412, -0.0212, -0.0038,  0.0248, -0.0550,\n",
      "         -0.0182, -0.0022, -0.0592, -0.0372,  0.0203, -0.0115,  0.0477, -0.0614,\n",
      "         -0.0532,  0.0486,  0.0588, -0.0036,  0.0580, -0.0493,  0.0347,  0.0391,\n",
      "          0.0022, -0.0251,  0.0371, -0.0459, -0.0315, -0.0225,  0.0599,  0.0552,\n",
      "          0.0232, -0.0408,  0.0311,  0.0419,  0.0182, -0.0352,  0.0404, -0.0520,\n",
      "         -0.0131,  0.0489,  0.0206, -0.0199,  0.0411, -0.0418, -0.0615, -0.0079,\n",
      "         -0.0039,  0.0320,  0.0339, -0.0226, -0.0511, -0.0239,  0.0357,  0.0301,\n",
      "          0.0575, -0.0207,  0.0534,  0.0080,  0.0073, -0.0317, -0.0439, -0.0437,\n",
      "         -0.0529,  0.0215, -0.0156,  0.0364,  0.0169, -0.0495,  0.0187,  0.0096,\n",
      "          0.0100, -0.0020, -0.0448,  0.0388, -0.0621,  0.0622, -0.0483, -0.0364,\n",
      "         -0.0371, -0.0407, -0.0111, -0.0410,  0.0511, -0.0493,  0.0458, -0.0424,\n",
      "         -0.0007, -0.0295, -0.0305,  0.0341,  0.0307,  0.0036,  0.0012, -0.0096,\n",
      "         -0.0486, -0.0180,  0.0132,  0.0358, -0.0031, -0.0284, -0.0539,  0.0460,\n",
      "          0.0221,  0.0013, -0.0237, -0.0208, -0.0529, -0.0061, -0.0329,  0.0412,\n",
      "          0.0334, -0.0422,  0.0379,  0.0292,  0.0251, -0.0625,  0.0244,  0.0200,\n",
      "         -0.0484, -0.0119,  0.0412, -0.0433,  0.0376, -0.0470, -0.0370, -0.0406,\n",
      "         -0.0227, -0.0107, -0.0256,  0.0405, -0.0170,  0.0613, -0.0576, -0.0262,\n",
      "          0.0307, -0.0367, -0.0134, -0.0536, -0.0395, -0.0329,  0.0445,  0.0252,\n",
      "         -0.0428,  0.0420,  0.0040, -0.0078,  0.0448,  0.0521,  0.0023, -0.0145,\n",
      "         -0.0403, -0.0180,  0.0223, -0.0129, -0.0054,  0.0524,  0.0241, -0.0148,\n",
      "         -0.0495, -0.0254, -0.0182, -0.0194, -0.0054, -0.0549,  0.0224, -0.0249,\n",
      "         -0.0492, -0.0099, -0.0591, -0.0034, -0.0089, -0.0376, -0.0141,  0.0189,\n",
      "         -0.0016, -0.0265,  0.0308, -0.0609,  0.0619,  0.0475, -0.0259, -0.0259,\n",
      "          0.0140, -0.0497, -0.0304, -0.0080, -0.0161,  0.0437, -0.0007, -0.0038,\n",
      "          0.0244,  0.0355,  0.0372,  0.0426, -0.0074,  0.0067,  0.0365,  0.0362,\n",
      "          0.0111, -0.0067,  0.0214,  0.0489,  0.0574,  0.0157, -0.0009,  0.0255,\n",
      "          0.0624,  0.0092, -0.0101,  0.0224, -0.0318, -0.0216,  0.0147, -0.0597,\n",
      "         -0.0281,  0.0565, -0.0613,  0.0600, -0.0011,  0.0112,  0.0003, -0.0406,\n",
      "          0.0344,  0.0580, -0.0168,  0.0452,  0.0093,  0.0292,  0.0044,  0.0576]])\n",
      "block.hidden_layer_1.bias tensor([0.0150])\n",
      "block.hidden_layer_2.weight tensor([[-0.0961],\n",
      "        [-0.3576]])\n",
      "block.hidden_layer_2.bias tensor([ 0.7109, -0.5835])\n"
     ]
    }
   ],
   "source": [
    "for name, param in model.named_parameters():\n",
    "    if param.requires_grad:\n",
    "        print(name, param.data)"
   ]
  },
  {
   "cell_type": "code",
   "execution_count": 397,
   "id": "d0421270",
   "metadata": {},
   "outputs": [
    {
     "data": {
      "text/plain": [
       "[<matplotlib.lines.Line2D at 0x7f568e3fa2b0>]"
      ]
     },
     "execution_count": 397,
     "metadata": {},
     "output_type": "execute_result"
    },
    {
     "data": {
      "image/png": "[encoded data removed]",
      "text/plain": [
       "<Figure size 432x288 with 1 Axes>"
      ]
     },
     "metadata": {
      "needs_background": "light"
     },
     "output_type": "display_data"
    }
   ],
   "source": [
    "plt.plot(list(dataloader)[0][0].numpy().T)"
   ]
  },
  {
   "cell_type": "code",
   "execution_count": null,
   "id": "4e7d052d",
   "metadata": {},
   "outputs": [],
   "source": []
  }
 ],
 "metadata": {
  "kernelspec": {
   "display_name": "base",
   "language": "python",
   "name": "base"
  },
  "language_info": {
   "codemirror_mode": {
    "name": "ipython",
    "version": 3
   },
   "file_extension": ".py",
   "mimetype": "text/x-python",
   "name": "python",
   "nbconvert_exporter": "python",
   "pygments_lexer": "ipython3",
   "version": "3.9.5"
  }
 },
 "nbformat": 4,
 "nbformat_minor": 5
}
